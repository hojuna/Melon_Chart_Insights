{
 "cells": [
  {
   "cell_type": "code",
   "execution_count": 11,
   "id": "9194fcd8-6d3b-428d-a713-9116f7127f2a",
   "metadata": {},
   "outputs": [
    {
     "name": "stdout",
     "output_type": "stream",
     "text": [
      "Requirement already satisfied: kiwipiepy in c:\\users\\hojun\\anaconda3\\lib\\site-packages (0.19.0)\n",
      "Requirement already satisfied: kiwipiepy-model<0.20,>=0.19 in c:\\users\\hojun\\anaconda3\\lib\\site-packages (from kiwipiepy) (0.19.0)\n",
      "Requirement already satisfied: tqdm in c:\\users\\hojun\\anaconda3\\lib\\site-packages (from kiwipiepy) (4.65.0)\n",
      "Requirement already satisfied: numpy in c:\\users\\hojun\\anaconda3\\lib\\site-packages (from kiwipiepy) (1.26.4)\n",
      "Requirement already satisfied: colorama in c:\\users\\hojun\\anaconda3\\lib\\site-packages (from tqdm->kiwipiepy) (0.4.6)\n"
     ]
    }
   ],
   "source": [
    "!pip install kiwipiepy\n"
   ]
  },
  {
   "cell_type": "code",
   "execution_count": 12,
   "id": "9ddaea88-4759-4557-8514-0a82438c13da",
   "metadata": {},
   "outputs": [
    {
     "name": "stdout",
     "output_type": "stream",
     "text": [
      "Collecting konlpy\n",
      "  Downloading konlpy-0.6.0-py2.py3-none-any.whl.metadata (1.9 kB)\n",
      "Collecting JPype1>=0.7.0 (from konlpy)\n",
      "  Downloading JPype1-1.5.0-cp311-cp311-win_amd64.whl.metadata (5.0 kB)\n",
      "Requirement already satisfied: lxml>=4.1.0 in c:\\users\\hojun\\anaconda3\\lib\\site-packages (from konlpy) (4.9.3)\n",
      "Requirement already satisfied: numpy>=1.6 in c:\\users\\hojun\\anaconda3\\lib\\site-packages (from konlpy) (1.26.4)\n",
      "Requirement already satisfied: packaging in c:\\users\\hojun\\anaconda3\\lib\\site-packages (from JPype1>=0.7.0->konlpy) (23.1)\n",
      "Downloading konlpy-0.6.0-py2.py3-none-any.whl (19.4 MB)\n",
      "   ---------------------------------------- 0.0/19.4 MB ? eta -:--:--\n",
      "   ---------------------------------------- 0.0/19.4 MB 660.6 kB/s eta 0:00:30\n",
      "   ---------------------------------------- 0.2/19.4 MB 3.3 MB/s eta 0:00:06\n",
      "   -- ------------------------------------- 1.1/19.4 MB 9.0 MB/s eta 0:00:03\n",
      "   --- ------------------------------------ 1.8/19.4 MB 10.2 MB/s eta 0:00:02\n",
      "   ----- ---------------------------------- 2.8/19.4 MB 12.6 MB/s eta 0:00:02\n",
      "   ------ --------------------------------- 3.3/19.4 MB 12.4 MB/s eta 0:00:02\n",
      "   -------- ------------------------------- 4.2/19.4 MB 13.5 MB/s eta 0:00:02\n",
      "   --------- ------------------------------ 4.6/19.4 MB 12.8 MB/s eta 0:00:02\n",
      "   ----------- ---------------------------- 5.6/19.4 MB 13.8 MB/s eta 0:00:01\n",
      "   -------------- ------------------------- 7.0/19.4 MB 15.4 MB/s eta 0:00:01\n",
      "   --------------- ------------------------ 7.5/19.4 MB 14.9 MB/s eta 0:00:01\n",
      "   ----------------- ---------------------- 8.3/19.4 MB 15.1 MB/s eta 0:00:01\n",
      "   ------------------ --------------------- 8.9/19.4 MB 15.0 MB/s eta 0:00:01\n",
      "   -------------------- ------------------- 10.0/19.4 MB 15.7 MB/s eta 0:00:01\n",
      "   ---------------------- ----------------- 11.0/19.4 MB 17.7 MB/s eta 0:00:01\n",
      "   ------------------------- -------------- 12.2/19.4 MB 18.7 MB/s eta 0:00:01\n",
      "   -------------------------- ------------- 12.8/19.4 MB 17.7 MB/s eta 0:00:01\n",
      "   ---------------------------- ----------- 14.0/19.4 MB 19.3 MB/s eta 0:00:01\n",
      "   ----------------------------- ---------- 14.3/19.4 MB 18.2 MB/s eta 0:00:01\n",
      "   ------------------------------ --------- 14.8/19.4 MB 18.2 MB/s eta 0:00:01\n",
      "   ------------------------------ --------- 15.1/19.4 MB 16.8 MB/s eta 0:00:01\n",
      "   ------------------------------- -------- 15.4/19.4 MB 16.4 MB/s eta 0:00:01\n",
      "   --------------------------------- ------ 16.2/19.4 MB 16.0 MB/s eta 0:00:01\n",
      "   ------------------------------------ --- 17.6/19.4 MB 16.4 MB/s eta 0:00:01\n",
      "   -------------------------------------- - 18.7/19.4 MB 16.4 MB/s eta 0:00:01\n",
      "   ---------------------------------------  19.4/19.4 MB 17.7 MB/s eta 0:00:01\n",
      "   ---------------------------------------- 19.4/19.4 MB 16.0 MB/s eta 0:00:00\n",
      "Downloading JPype1-1.5.0-cp311-cp311-win_amd64.whl (351 kB)\n",
      "   ---------------------------------------- 0.0/351.5 kB ? eta -:--:--\n",
      "   --------------------------------------- 351.5/351.5 kB 21.3 MB/s eta 0:00:00\n",
      "Installing collected packages: JPype1, konlpy\n",
      "Successfully installed JPype1-1.5.0 konlpy-0.6.0\n"
     ]
    }
   ],
   "source": [
    "!pip install konlpy"
   ]
  },
  {
   "cell_type": "code",
   "execution_count": 16,
   "id": "00d51bf3-37e7-424a-aa58-fb81ab893583",
   "metadata": {},
   "outputs": [],
   "source": [
    "import pandas as pd\n",
    "import matplotlib.pyplot as plt\n",
    "import matplotlib.font_manager as fm\n",
    "\n",
    "from kiwipiepy import Kiwi,Match\n",
    "\n",
    "import time\n"
   ]
  },
  {
   "cell_type": "code",
   "execution_count": 17,
   "id": "af1d9a1d-442f-42ad-ab17-76f3856d7aea",
   "metadata": {},
   "outputs": [],
   "source": [
    "#파싱 시간 측정 메소드\n",
    "def measure_execution_time(func, *args, **kwargs):\n",
    "    start_time = time.perf_counter()\n",
    "    # 실행할 코드\n",
    "    func(*args, **kwargs) \n",
    "\n",
    "    end_time = time.perf_counter()\n",
    "\n",
    "    execution_time = end_time - start_time  \n",
    "    print(f\"실행 시간: {execution_time} 초\")\n",
    "\n",
    "pd.set_option('display.max_colwidth', None)"
   ]
  },
  {
   "cell_type": "code",
   "execution_count": 18,
   "id": "b0daa236-ad5a-453c-b3f7-b5e5c72b0b69",
   "metadata": {},
   "outputs": [],
   "source": [
    "#test 가사는 아이유의 좋은날\n",
    "\n",
    "df= pd.read_csv(r\"C:\\Users\\hojun\\2024_10_10_project\\data\\raw\\TOTAL_kr_song_chart_data.csv\")\n",
    "\n",
    "test_lyric= df.loc[df['title'] == '좋은날', 'lyric'].values[0].replace(\"\\n\", \" \")\n",
    "\n"
   ]
  },
  {
   "cell_type": "code",
   "execution_count": 20,
   "id": "0000f498-c72f-4968-9a32-adee32b913e6",
   "metadata": {},
   "outputs": [],
   "source": [
    "#kiwi 형태소 태깅 리스트\n",
    "# pos_to_extract = ['NNG', 'NNP', 'VV', 'VA', 'MAG']\n",
    "pos_to_extract = ['NNG', 'NNP']\n",
    "\n",
    "# load_default_dict : 추가 사전 설정\n",
    "#integrate_allomorph :  어미 중, '아/어', '았/었'과 같이 동일하지만 음운 환경에 따라 형태가 달라지는 이형태들을 자동으로 통합\n",
    "# model_type : 언어 모델 knlm(기본)\n",
    "# typos : 오타 교정하지 않음\n",
    "kiwi =Kiwi(load_default_dict=True, integrate_allomorph=True, model_type='knlm', typos=None)\n",
    "\n",
    "def kiwi_test():\n",
    "    tokens = kiwi.tokenize(test_lyric, normalize_coda=True)\n",
    "    kiwi_result = [token.form for token in tokens if token.tag in pos_to_extract]\n",
    "    print(kiwi_result)\n"
   ]
  },
  {
   "cell_type": "code",
   "execution_count": 21,
   "id": "3e1cbd00-6ba6-419c-9e77-9443b203a93b",
   "metadata": {},
   "outputs": [],
   "source": [
    "from konlpy.tag import Okt\n",
    "from konlpy.tag import Kkma\n",
    "from konlpy.tag import Hannanum\n",
    "\n",
    "okt_pos_to_extract=['Noun']\n",
    "\n",
    "okt = Okt()\n",
    "\n",
    "def okt_test():\n",
    "    # token =okt.pos(test_lyric)\n",
    "    # okt_result = [word for word, pos in token if pos in okt_pos_to_extract]\n",
    "    # print(okt_result)\n",
    "    okt_result =okt.nouns(test_lyric)\n",
    "    print(okt_result)\n",
    "\n",
    "\n",
    "kkma=Kkma()\n",
    "\n",
    "def kkma_test():\n",
    "    # token =kkma.pos(test_lyric)\n",
    "    # kkma_result = [word for word, pos in token if pos in pos_to_extract]\n",
    "    # print(kkma_result)\n",
    "    kkma_result =kkma.nouns(test_lyric)\n",
    "    print(kkma_result)\n",
    "\n",
    "\n",
    "hannanum=Hannanum()\n",
    "def Hannanum_test():\n",
    "    hannanum_result =hannanum.nouns(test_lyric)\n",
    "    print(hannanum_result)"
   ]
  },
  {
   "cell_type": "code",
   "execution_count": 22,
   "id": "cb2980c6-f008-4994-bf97-fe31659507a3",
   "metadata": {},
   "outputs": [
    {
     "name": "stdout",
     "output_type": "stream",
     "text": [
      "kiwi\n",
      "['사랑', '천생연분', '화장', '조금', '걱정', '상처', '눈물', '이제', '날', '날', '날', '날', '이제', '사람', '삶', '선물', '사랑', '날', '심장', '대', '시간', '날', '날', '날', '날', '이제', '사람', '삶', '선물', '그대죠', '날', '날', '날', '날', '이제', '날', '시간', '이제', '손', '사랑']\n",
      "실행 시간: 1.372894100000849 초\n"
     ]
    }
   ],
   "source": [
    "print(\"kiwi\")\n",
    "measure_execution_time(kiwi_test)"
   ]
  },
  {
   "cell_type": "code",
   "execution_count": 23,
   "id": "4829b2a1-5e61-4b19-b1ae-33068985df97",
   "metadata": {},
   "outputs": [
    {
     "name": "stdout",
     "output_type": "stream",
     "text": [
      "okt_test\n",
      "['알', '내', '사랑', '그대', '우리', '천생연분', '울', '화장', '번지', '조금', '더', '우린', '아무', '걱정', '나', '여기', '상처', '눈물', '젠', '테', '날', '날', '내', '날', '날', '젠', '그대', '사람', '아마', '내', '삶', '선물', '그대', '알', '내', '사랑', '그대', '그', '위해', '번', '보기', '날', '나', '심장', '그대', '향', '음', '그대', '그대', '그', '시간', '그대', '날', '날', '날', '내', '날', '날', '젠', '그대', '더', '사람', '아마', '내', '삶', '선물', '그대', '날', '날', '내', '날', '날', '젠', '우리', '날', '그', '시간', '젠', '우리', '내', '손', '잡고', '사랑']\n",
      "실행 시간: 2.530515699996613 초\n"
     ]
    }
   ],
   "source": [
    "print(\"okt_test\")\n",
    "measure_execution_time(okt_test)\n"
   ]
  },
  {
   "cell_type": "code",
   "execution_count": 24,
   "id": "5a230123-4214-4295-bf6b-e9ee098e2ac9",
   "metadata": {},
   "outputs": [
    {
     "name": "stdout",
     "output_type": "stream",
     "text": [
      "kkma_test\n",
      "['내', '사랑', '그대', '우리', '연분', '화', '태', '나요', '걱정', '나', '여기', '상처', '눈물', '이젠', '터', '날', '내가', '사람', '꺼', '꺼예', '예', '삶', '선물', '대죠', '천', '천번', '번', '심장', '대', '향', '시간', '손']\n",
      "실행 시간: 5.513271800009534 초\n"
     ]
    }
   ],
   "source": [
    "print(\"kkma_test\")\n",
    "measure_execution_time(kkma_test)"
   ]
  },
  {
   "cell_type": "code",
   "execution_count": 25,
   "id": "29e517e7-90ba-4ea6-b6d6-657990305cf6",
   "metadata": {},
   "outputs": [
    {
     "name": "stdout",
     "output_type": "stream",
     "text": [
      "Hannanum_test\n",
      "['나', '사랑한', '그대', '우리', '천생연분', '화장', '지', '우', '걱정', '나', '상처', '눈물', '이젠', '테', '좋은날', '좋은날', '나', '드릴게요', '좋은날', '좋은날', '이젠', '그대', '나', '사람', '없을꺼예요', '내', '삶', '선물', '그대', '나', '사랑한', '그대', '그댈', '천번', '나', '날', '나', '심장', '그대', '그대', '모르실테죠', '그대', '시간', '그대', '날', '온거죠', '좋은날', '좋은날', '나', '좋은날', '좋은날', '이젠', '그대', '나', '사람', '없을꺼예요', '내', '삶', '선물', '그대', '좋은날', '좋은날', '나', '좋은날', '좋은날', '이젠', '우리', '날', '시간', '이젠', '우리', '손', '사랑']\n",
      "실행 시간: 1.09655320001184 초\n"
     ]
    }
   ],
   "source": [
    "print(\"Hannanum_test\")\n",
    "measure_execution_time(Hannanum_test)"
   ]
  },
  {
   "cell_type": "code",
   "execution_count": null,
   "id": "36e73512-2e4c-4034-b71e-47a8b03f3d97",
   "metadata": {},
   "outputs": [],
   "source": [
    "#실행 시간과 결과를 비교해봤을 떄 Hannanum을 사용하기로"
   ]
  }
 ],
 "metadata": {
  "kernelspec": {
   "display_name": "Python 3 (ipykernel)",
   "language": "python",
   "name": "python3"
  },
  "language_info": {
   "codemirror_mode": {
    "name": "ipython",
    "version": 3
   },
   "file_extension": ".py",
   "mimetype": "text/x-python",
   "name": "python",
   "nbconvert_exporter": "python",
   "pygments_lexer": "ipython3",
   "version": "3.11.7"
  },
  "widgets": {
   "application/vnd.jupyter.widget-state+json": {
    "state": {},
    "version_major": 2,
    "version_minor": 0
   }
  }
 },
 "nbformat": 4,
 "nbformat_minor": 5
}
